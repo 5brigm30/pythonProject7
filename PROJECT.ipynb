{
 "cells": [
  {
   "cell_type": "code",
   "execution_count": 6,
   "metadata": {
    "collapsed": true,
    "pycharm": {
     "name": "#%%\n"
    }
   },
   "outputs": [
    {
     "name": "stdout",
     "output_type": "stream",
     "text": [
      "group 2\n"
     ]
    },
    {
     "data": {
      "text/plain": "<bound method NDFrame.head of       6  148  72  35    0  33.6  0.627  50  1\n0     1   85  66  29    0  26.6  0.351  31  0\n1     8  183  64   0    0  23.3  0.672  32  1\n2     1   89  66  23   94  28.1  0.167  21  0\n3     0  137  40  35  168  43.1  2.288  33  1\n4     5  116  74   0    0  25.6  0.201  30  0\n..   ..  ...  ..  ..  ...   ...    ...  .. ..\n762  10  101  76  48  180  32.9  0.171  63  0\n763   2  122  70  27    0  36.8  0.340  27  0\n764   5  121  72  23  112  26.2  0.245  30  0\n765   1  126  60   0    0  30.1  0.349  47  1\n766   1   93  70  31    0  30.4  0.315  23  0\n\n[767 rows x 9 columns]>"
     },
     "execution_count": 6,
     "metadata": {},
     "output_type": "execute_result"
    }
   ],
   "source": [
    "import numpy as np\n",
    "import pandas as pd\n",
    "\n",
    "\n",
    "print(\"group 2\")#reading without headings\n",
    "dataset = pd.read_csv('pima_indians_diabetes.csv')\n",
    "dataset.head"
   ]
  },
  {
   "cell_type": "code",
   "execution_count": 6,
   "outputs": [],
   "source": [],
   "metadata": {
    "collapsed": false,
    "pycharm": {
     "name": "#%%\n"
    }
   }
  }
 ],
 "metadata": {
  "kernelspec": {
   "display_name": "Python 3",
   "language": "python",
   "name": "python3"
  },
  "language_info": {
   "codemirror_mode": {
    "name": "ipython",
    "version": 2
   },
   "file_extension": ".py",
   "mimetype": "text/x-python",
   "name": "python",
   "nbconvert_exporter": "python",
   "pygments_lexer": "ipython2",
   "version": "2.7.6"
  }
 },
 "nbformat": 4,
 "nbformat_minor": 0
}