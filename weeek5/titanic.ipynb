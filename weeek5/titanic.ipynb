{
 "cells": [
  {
   "cell_type": "code",
   "execution_count": 42,
   "metadata": {
    "collapsed": true
   },
   "outputs": [
    {
     "name": "stderr",
     "output_type": "stream",
     "text": [
      "C:\\Users\\NEW\\AppData\\Local\\Temp\\ipykernel_12408\\681392448.py:19: FutureWarning: Dropping of nuisance columns in DataFrame reductions (with 'numeric_only=None') is deprecated; in a future version this will raise TypeError.  Select only valid columns before calling the reduction.\n",
      "  my_data.fillna(my_data.mean(), inplace=True)\n",
      "C:\\Users\\NEW\\AppData\\Local\\Temp\\ipykernel_12408\\681392448.py:29: FutureWarning: In a future version of pandas all arguments of DataFrame.drop except for the argument 'labels' will be keyword-only.\n",
      "  X_data = np.array(my_data.drop(['Sex'], 1).astype(float))\n"
     ]
    },
    {
     "name": "stdout",
     "output_type": "stream",
     "text": [
      "0.4691358024691358\n"
     ]
    }
   ],
   "source": [
    "import numpy as np\n",
    "import pandas as pd\n",
    "from pandas import read_csv\n",
    "from sklearn.preprocessing import MinMaxScaler,LabelEncoder\n",
    "import seaborn as sns\n",
    "import matplotlib.pyplot as plt\n",
    "from sklearn.cluster import KMeans\n",
    "from sklearn.model_selection import train_test_split\n",
    "%matplotlib inline\n",
    "header_names = ['PId','survived','pclass','Name','Sex','Age','SibSp','Parch','Tic','Fare','Cabin','Embarked']\n",
    "my_data = read_csv('titanic.csv',names=header_names,header=None,skiprows=1)\n",
    "#print(my_data)\n",
    "#print(my_data.shape)\n",
    "#print(my_data.head(2))\n",
    "#print('\\nThe total number of empty values per variable\\n', my_data.isna().sum())\n",
    "empty_value_data = my_data[my_data.isna().any(axis=1)]\n",
    "#print(empty_value_data.shape)\n",
    "#print(len(empty_value_data))\n",
    "my_data.fillna(my_data.mean(), inplace=True)\n",
    "#print('\\nThe total number of empty values per variable\\n',my_data.isna().sum())\n",
    "#print(my_data.Age)\n",
    "labelEncoder = LabelEncoder()\n",
    "labelEncoder.fit(my_data['Sex'])\n",
    "my_data['Sex'] = labelEncoder.transform(my_data['Sex'])\n",
    "#print(my_data['Sex'])\n",
    "#print(my_data.info())\n",
    "my_data.describe()\n",
    "my_data = my_data.drop(['Name','Tic','Cabin','Embarked'], axis=1)\n",
    "X_data = np.array(my_data.drop(['Sex'], 1).astype(float))\n",
    "#print(X_data)\n",
    "y_data = np.array(my_data['Sex'])\n",
    "#print(y_data)\n",
    "Kmeans_model = KMeans(n_clusters=2)\n",
    "Kmeans_model.fit(X_data)\n",
    "correct = 0\n",
    "for i in range(len(X_data)):\n",
    "    predict_data = np.array(X_data[i].astype(float))\n",
    "    predict_data = predict_data.reshape(-1, len(predict_data))\n",
    "    prediction = Kmeans_model.predict(predict_data)\n",
    "    if prediction[0] == y_data[i]:\n",
    "        correct += 1\n",
    "#print(correct/len(X_data))\n",
    "\n",
    "\n",
    "\n",
    "\n",
    "\n"
   ]
  }
 ],
 "metadata": {
  "kernelspec": {
   "display_name": "Python 3",
   "language": "python",
   "name": "python3"
  },
  "language_info": {
   "codemirror_mode": {
    "name": "ipython",
    "version": 2
   },
   "file_extension": ".py",
   "mimetype": "text/x-python",
   "name": "python",
   "nbconvert_exporter": "python",
   "pygments_lexer": "ipython2",
   "version": "2.7.6"
  }
 },
 "nbformat": 4,
 "nbformat_minor": 0
}